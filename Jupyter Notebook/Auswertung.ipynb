{
 "cells": [
  {
   "cell_type": "markdown",
   "metadata": {},
   "source": [
    "# Einbinden der Bibliotheken"
   ]
  },
  {
   "cell_type": "code",
   "execution_count": 1,
   "metadata": {},
   "outputs": [],
   "source": [
    "# Imports\n",
    "import os\n",
    "import json\n",
    "\n",
    "from scipy.interpolate import interp1d\n",
    "from scipy.signal import butter, lfilter\n",
    "import numpy as np\n",
    "from matplotlib import pyplot as plt\n",
    "\n",
    "# Configure plot size\n",
    "plt.rcParams[\"figure.figsize\"] = (10,5)"
   ]
  },
  {
   "cell_type": "markdown",
   "metadata": {},
   "source": [
    "# Laden der Datei\n",
    "Während der Messung werden die empfangenen Daten in Listen gespeichert. Diese werden nach Beendung der Messung als JSON-Datei gespeichert.\n",
    "Um das aufgezeichnete Signal auszuwerten, wird dieses zunächst geladen.\n",
    "Die einzelnen Messwerte und die dazugehörenden Zeitwerte werden in zwei Listen (x, y) gespeichert."
   ]
  },
  {
   "cell_type": "code",
   "execution_count": 2,
   "metadata": {},
   "outputs": [
    {
     "ename": "FileNotFoundError",
     "evalue": "[Errno 2] No such file or directory: 'python/records/20180429-212736_Maria_gd_.json'",
     "output_type": "error",
     "traceback": [
      "\u001b[0;31m---------------------------------------------------------------------------\u001b[0m",
      "\u001b[0;31mFileNotFoundError\u001b[0m                         Traceback (most recent call last)",
      "\u001b[0;32m<ipython-input-2-dd11a511e845>\u001b[0m in \u001b[0;36m<module>\u001b[0;34m()\u001b[0m\n\u001b[1;32m      5\u001b[0m         \u001b[0;32mreturn\u001b[0m \u001b[0mjson\u001b[0m\u001b[0;34m.\u001b[0m\u001b[0mload\u001b[0m\u001b[0;34m(\u001b[0m\u001b[0mfile\u001b[0m\u001b[0;34m)\u001b[0m\u001b[0;34m\u001b[0m\u001b[0m\n\u001b[1;32m      6\u001b[0m \u001b[0;34m\u001b[0m\u001b[0m\n\u001b[0;32m----> 7\u001b[0;31m \u001b[0msignal\u001b[0m \u001b[0;34m=\u001b[0m \u001b[0mget_signal\u001b[0m\u001b[0;34m(\u001b[0m\u001b[0;34m'20180429-212736_Maria_gd_.json'\u001b[0m\u001b[0;34m)\u001b[0m\u001b[0;34m\u001b[0m\u001b[0m\n\u001b[0m\u001b[1;32m      8\u001b[0m \u001b[0mx\u001b[0m \u001b[0;34m=\u001b[0m \u001b[0msignal\u001b[0m\u001b[0;34m[\u001b[0m\u001b[0;34m'times'\u001b[0m\u001b[0;34m]\u001b[0m\u001b[0;34m\u001b[0m\u001b[0m\n\u001b[1;32m      9\u001b[0m \u001b[0my\u001b[0m \u001b[0;34m=\u001b[0m \u001b[0msignal\u001b[0m\u001b[0;34m[\u001b[0m\u001b[0;34m'channels'\u001b[0m\u001b[0;34m]\u001b[0m\u001b[0;34m[\u001b[0m\u001b[0;36m0\u001b[0m\u001b[0;34m]\u001b[0m\u001b[0;34m\u001b[0m\u001b[0m\n",
      "\u001b[0;32m<ipython-input-2-dd11a511e845>\u001b[0m in \u001b[0;36mget_signal\u001b[0;34m(filename)\u001b[0m\n\u001b[1;32m      2\u001b[0m \u001b[0;34m\u001b[0m\u001b[0m\n\u001b[1;32m      3\u001b[0m \u001b[0;32mdef\u001b[0m \u001b[0mget_signal\u001b[0m\u001b[0;34m(\u001b[0m\u001b[0mfilename\u001b[0m\u001b[0;34m)\u001b[0m\u001b[0;34m:\u001b[0m\u001b[0;34m\u001b[0m\u001b[0m\n\u001b[0;32m----> 4\u001b[0;31m     \u001b[0;32mwith\u001b[0m \u001b[0mopen\u001b[0m\u001b[0;34m(\u001b[0m\u001b[0mos\u001b[0m\u001b[0;34m.\u001b[0m\u001b[0mpath\u001b[0m\u001b[0;34m.\u001b[0m\u001b[0mjoin\u001b[0m\u001b[0;34m(\u001b[0m\u001b[0mDIRECTORY\u001b[0m\u001b[0;34m,\u001b[0m \u001b[0mfilename\u001b[0m\u001b[0;34m)\u001b[0m\u001b[0;34m)\u001b[0m \u001b[0;32mas\u001b[0m \u001b[0mfile\u001b[0m\u001b[0;34m:\u001b[0m\u001b[0;34m\u001b[0m\u001b[0m\n\u001b[0m\u001b[1;32m      5\u001b[0m         \u001b[0;32mreturn\u001b[0m \u001b[0mjson\u001b[0m\u001b[0;34m.\u001b[0m\u001b[0mload\u001b[0m\u001b[0;34m(\u001b[0m\u001b[0mfile\u001b[0m\u001b[0;34m)\u001b[0m\u001b[0;34m\u001b[0m\u001b[0m\n\u001b[1;32m      6\u001b[0m \u001b[0;34m\u001b[0m\u001b[0m\n",
      "\u001b[0;31mFileNotFoundError\u001b[0m: [Errno 2] No such file or directory: 'python/records/20180429-212736_Maria_gd_.json'"
     ]
    }
   ],
   "source": [
    "DIRECTORY = 'python/records'\n",
    "\n",
    "def get_signal(filename):\n",
    "    with open(os.path.join(DIRECTORY, filename)) as file:\n",
    "        return json.load(file)\n",
    "    \n",
    "signal = get_signal('20180429-212736_Maria_gd_.json')\n",
    "x = signal['times']\n",
    "y = signal['channels'][0]"
   ]
  },
  {
   "cell_type": "markdown",
   "metadata": {},
   "source": [
    "# Verarbeitung der Rohdaten\n",
    "Das empfangene, ungefilterte Signal ist zunächst unbrauchbar. Es beinhaltet sehr viele Störfrequenzen. "
   ]
  },
  {
   "cell_type": "markdown",
   "metadata": {},
   "source": [
    "## Resampling\n",
    "Wie man beispielhaft aus der Zeitdifferenz der ersten 10 Messwerte erkennen kann, ist die Abtastrate nicht konstant."
   ]
  },
  {
   "cell_type": "code",
   "execution_count": null,
   "metadata": {},
   "outputs": [],
   "source": [
    "[x[i+1] - x[i] for i in range(10)]"
   ]
  },
  {
   "cell_type": "markdown",
   "metadata": {},
   "source": [
    "Die Inkonstanz wird in erster Linie durch das Buffering und somit inkonstanten Verzögerungen bei der Übertragung oder durch Paketverluste bei der Übertragung verursacht. Die meisten Algorithmen zur Signalverarbeitung, wie beispielsweise Passfilter, benötigen jedoch ein Signal mit konstanter Abtastrate. Das Signal wird deshalb zunächst auf eine fixe Abtastrate von 100 Hz resampled."
   ]
  },
  {
   "cell_type": "code",
   "execution_count": null,
   "metadata": {},
   "outputs": [],
   "source": [
    "def resample(x, y, frequency):\n",
    "    # Calculate the new sample amount and the period length of one sample\n",
    "    length = x[-1]\n",
    "    samples_amount = int(length * frequency)\n",
    "    period_length = 1 / frequency\n",
    "    # Create list with x-values (time values) for the given frequency\n",
    "    # First value has to be greater or equal the first value of the input\n",
    "    x_new = [period_length * i for i in range(samples_amount) if period_length * i >= x[0]]\n",
    "    \n",
    "    # Calculate interpolated y values\n",
    "    y_new = [interp1d(x, y)(i).tolist() for i in x_new]\n",
    "\n",
    "    return x_new, y_new\n",
    "\n",
    "FREQUENCY = 100 # Hz\n",
    "x, y = resample(x, y, FREQUENCY)"
   ]
  },
  {
   "cell_type": "markdown",
   "metadata": {},
   "source": [
    "## Filterung\n",
    "### Schnelle Fourier-Transformation\n",
    "Aus dem Graphen der Fourier-Transformation kann man erkennen, dass das Signal ein breites Spektrum an Frequenzen enthält."
   ]
  },
  {
   "cell_type": "code",
   "execution_count": null,
   "metadata": {},
   "outputs": [],
   "source": [
    "def fft(y, frequency):\n",
    "    # Get real amplitudes of FFT (only in positive frequencies)\n",
    "    fft_values = np.absolute(np.fft.rfft(y))\n",
    "\n",
    "    # Get frequencies for amplitudes in Hz\n",
    "    dt = 1 / frequency\n",
    "    fft_freq = np.fft.rfftfreq(len(y), dt)\n",
    "\n",
    "    return fft_freq, fft_values\n",
    "\n",
    "# Plot Graph\n",
    "plt.plot(*fft(y, FREQUENCY))\n",
    "plt.xlim(0,50)\n",
    "plt.ylim(-1, 20)\n",
    "plt.show()"
   ]
  },
  {
   "cell_type": "markdown",
   "metadata": {},
   "source": [
    "### Bandpass-Filter\n",
    "Man kann deutlich erkennen, dass sich die größte Leistung im Bereich unter 20 Hz befindet. Gerade im hochfrequenten Bereich finden sich viele Störsignale. Diese stammen hauptsächlich von drei Quellen: erstens von körpereigenen Stromflüssen, welche nicht für die Messung relevant sind; zweitens von externen Interferenzen (z.B.: Wechselstrom: 50 Hz) und drittens werden sie einfach durch eine praktisch unmögliche 100% exakte Messung hervorgerufen. Um ein sauberes Signal zu erhalten werden diese Frequenzen mittels eines Hochpass-Filters entfernd. Die richtige Wahl der Grenzfrequenz ist dabei kritisch. Einerseits sollte sie niedrig gehalten werden, um einen möglichst großen Bereich von Störfrequenzen zu entfernen. Andererseits darf sie auch nicht zu klein sein, da dadurch das Signal verfälscht wird. Da bei dieser Messung die Testperson deutlich und nicht besonders schnell blinzelte, kann eine relativ kleine Grenzfrequenz von 5 Hz für den Hochpassfilter verwendet werden.\n",
    "Zusätzlich kann ein Tiefpass-Filter verwendet werden, welcher tiefe Frequnzen unterhalb einer bestimmten Grenzfrequenz entfernd. Somit wird das Signal unterschiedlich stark zu 0 V hingezogen. Bei der Elektrookulografie ist dies grundsätzlich nicht sinnvoll. Der eigentliche Messwert, aus dem man den Blickrichtungswinkel ableiten kann, wird dadurch verfälscht. Bei der Detektierung des Blinzelns hingegend ist nicht der exakte Wert der gemessenen Spannung zu einem bestimmten Zeitpunk ausschlaggebend, sondern die Änderung der Spannung innerhalb eines bestimmten Frequenzbereichs. Deshalb ist ein Tiefpassfilter sinvoll, da dadurch die Peaks deutlicher erkennbar sind. Hier wird eine Grenzfrequenz von 2 Hz für den Tiefpass-Filter verwendet. In Summe bedeutet dies, dass nur der Frequenzbereich zwischen 2 und 5 Hz betrachtet wird."
   ]
  },
  {
   "cell_type": "code",
   "execution_count": null,
   "metadata": {},
   "outputs": [],
   "source": [
    "def butter_bandpass_filter(data, lowcut, highcut, frequency, order=1):\n",
    "    nyq = 0.5 * frequency\n",
    "    low = lowcut / nyq\n",
    "    high = highcut / nyq\n",
    "\n",
    "    b, a = butter(order, [low, high], btype='band')\n",
    "    return lfilter(b, a, data)\n",
    "\n",
    "LOWCUT = 2\n",
    "HIGHCUT = 5\n",
    "y_filtered = butter_bandpass_filter(y, LOWCUT, HIGHCUT, FREQUENCY)"
   ]
  },
  {
   "cell_type": "markdown",
   "metadata": {},
   "source": [
    "Im folgendem Diagramm kann man die Graphen des ungefilterten Signals <font color='red'>(rot)</font> und des gefilterten <font color='blue'>(blau)</font> vergleichen. Man kann ausserdem Beobachten, welche Auswirkung die Veränderung der Grenzfrequenzen des Tief- und Hochpass-Filters auf das Signal hat."
   ]
  },
  {
   "cell_type": "code",
   "execution_count": null,
   "metadata": {},
   "outputs": [],
   "source": [
    "plt.plot(x, y, color='red')\n",
    "plt.show()\n",
    "plt.plot(x, y_filtered, color='blue')\n",
    "plt.show()"
   ]
  },
  {
   "cell_type": "markdown",
   "metadata": {},
   "source": [
    "# Blinzel Detektierung\n",
    "Das Blinzeln ist als relativ starker Peak im Signal erkennbar. Das Ziel ist es nun diese Peaks zu detektieren. Zunächst werden alle lokalen Maxima bestimmt. Dann wird ein Schwellwert definiert, ab welchen ein Peak als Blinzeln gezählt wird. Die Größe der gemessenen Spannung und somit auch das Ausmaß des Ausschlages der Peaks variert von Messung zu Messung sehr stark. Dies kann von der momentanen Hautleitfähigkeit, aber auch durch das leicht unterschiedliche Aufbringen der Sensoren beinflusst werden. Aus diesem Grunde ist es nicht sinnvoll einen fixen, konkreten Schwellwert zu definieren, sondern ihn bei jeder Session dynamisch zu berechnen. Hier wird als Schwellwert einfach der größte gemessene Wert multipliziert mit 0.75 verwendet. Dabei werden zwei Bedingungen vorausgesetzt. Erstens muss im betrachtetem Intervall mindestens ein Peak eines Blinzelns vorhanden sein. Ansonst würde ein viel zu geringer Schwellwert berechnet werden und es würden bereits kleinere Peaks fälschlicherweise als Blinzeln interpretiert werden. Zweitens muss das Signal beim nicht Blinzeln um die 0 V sein und der Ausschlag muss mindestens positiv sein. Dies kann durch Verwendung eines Tiefpass-Filters garantiert werden."
   ]
  },
  {
   "cell_type": "code",
   "execution_count": null,
   "metadata": {
    "scrolled": false
   },
   "outputs": [],
   "source": [
    "def detect_peaks(y):\n",
    "    \"\"\"Get indices all peaks\"\"\"\n",
    "    # Peak: value has to be greater than previous and following value\n",
    "    peaks = [i for i in range(1, len(y) - 1) if y[i] > y[i-1] and y[i] > y[i+1]]\n",
    "    \n",
    "    # Get minimum peak height\n",
    "    mph = max(y) * 0.75 # Minimum peak hight\n",
    "    \n",
    "    # Get peaks greater than minimum-peak-height\n",
    "    peaks = [peak for peak in peaks if y[peak] >= mph]\n",
    "    return peaks\n",
    "\n",
    "# Plot unfiltered Signal with peaks\n",
    "peaks_indexes = detect_peaks(y)\n",
    "for peak_index in peaks_indexes:\n",
    "    plt.plot(x[peak_index], y[peak_index], 'bo')\n",
    "\n",
    "plt.plot(x, y, color='red')\n",
    "plt.show()\n",
    "print('Detected blinks: ' + str((len(peaks_indexes))))\n",
    "\n",
    "# Plot filtered Signal with peaks\n",
    "peaks_indexes = detect_peaks(y_filtered)\n",
    "for peak_index in peaks_indexes:\n",
    "    plt.plot(x[peak_index], y_filtered[peak_index], 'ro')\n",
    "\n",
    "plt.plot(x, y_filtered, color='blue')\n",
    "plt.show()\n",
    "print('Detected blinks: ' + str((len(peaks_indexes))))"
   ]
  },
  {
   "cell_type": "markdown",
   "metadata": {},
   "source": [
    "Aus den Ergebnisen kann man erkennen, dass im ersten Fall, bei Analysierung des ungefilterten Siganls, die Detektierung nicht funktioniert hat. Es wurden viele lokale Maxima (15) fälschlicherweise als Blinzeln gewertet. Dies ist auf die Nichterfüllung der zweiten Bedingung zurückzuführen. Beim Nichtblinzeln beträgt das Signal zwischen 0.2 und 0.3 μV und nicht wie vorausgesetzt um die 0 V. Außerdem schlägt das Signal beim Blinzeln nur negativ aus. Deshalb wurden trotz der vielen false-positive Detektierungen die eigentlichen Blizel-Peaks nicht erkannt.\n",
    "Im zweiten Fall, bei der Analysierung des gefilterten Signals, wurden das dreifache Blinzeln der Testperson richtig erkannt!"
   ]
  }
 ],
 "metadata": {
  "kernelspec": {
   "display_name": "Python 3",
   "language": "python",
   "name": "python3"
  },
  "language_info": {
   "codemirror_mode": {
    "name": "ipython",
    "version": 3
   },
   "file_extension": ".py",
   "mimetype": "text/x-python",
   "name": "python",
   "nbconvert_exporter": "python",
   "pygments_lexer": "ipython3",
   "version": "3.6.5"
  }
 },
 "nbformat": 4,
 "nbformat_minor": 2
}
